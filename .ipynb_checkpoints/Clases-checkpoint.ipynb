{
 "cells": [
  {
   "cell_type": "markdown",
   "id": "36385950",
   "metadata": {},
   "source": [
    "# Introducción, tipos y estructuras de dato\n",
    "\n",
    "Estos elementos son los bloques de la programación, con los **tipos de dato** puedes representar información y con las **estructuras** organizar esa información."
   ]
  },
  {
   "cell_type": "code",
   "execution_count": 2,
   "id": "fc519f4a",
   "metadata": {},
   "outputs": [
    {
     "data": {
      "text/plain": [
       "Int64"
      ]
     },
     "execution_count": 2,
     "metadata": {},
     "output_type": "execute_result"
    }
   ],
   "source": [
    "typeof(1)"
   ]
  },
  {
   "cell_type": "code",
   "execution_count": 3,
   "id": "2a8b77d0",
   "metadata": {},
   "outputs": [
    {
     "data": {
      "text/plain": [
       "Float64"
      ]
     },
     "execution_count": 3,
     "metadata": {},
     "output_type": "execute_result"
    }
   ],
   "source": [
    "typeof(1.)"
   ]
  },
  {
   "cell_type": "markdown",
   "id": "a17cee67",
   "metadata": {},
   "source": [
    "Recordemos las funciones en matemáticas, son relaciones que llevan \"cosas\" de un conjunto a otro. Las funciones de variable **real** son las que se ven en cálculo.\n",
    "\n",
    "$$\n",
    "f: \\mathbb{R}\\to\\mathbb{R}\n",
    "$$\n",
    "\n",
    "una función es un ente que cumple misión. Por ejemplo, la siguiente función\n",
    "\n",
    "$$\n",
    "f(x)=2x\n",
    "$$\n",
    "\n",
    "En el caso de las funciones en programación es igual."
   ]
  },
  {
   "cell_type": "code",
   "execution_count": 6,
   "id": "98b48591",
   "metadata": {},
   "outputs": [
    {
     "data": {
      "text/plain": [
       "String"
      ]
     },
     "execution_count": 6,
     "metadata": {},
     "output_type": "execute_result"
    }
   ],
   "source": [
    "typeof(\"Hola\")"
   ]
  },
  {
   "cell_type": "code",
   "execution_count": 11,
   "id": "7dbca553",
   "metadata": {},
   "outputs": [
    {
     "data": {
      "text/plain": [
       "Char"
      ]
     },
     "execution_count": 11,
     "metadata": {},
     "output_type": "execute_result"
    }
   ],
   "source": [
    "typeof('a')"
   ]
  },
  {
   "cell_type": "markdown",
   "id": "dee5718b",
   "metadata": {},
   "source": [
    "**Ejercicios**\n",
    "\n",
    "Define los siguientes tipos de datos\n",
    "\n",
    "* 64\n",
    "* 64.2\n",
    "* .00001\n",
    "* 102\n",
    "* 1.1\n",
    "* \"Fero\"\n",
    "* '8'\n",
    "* \"123\"\n",
    "* 'r'"
   ]
  },
  {
   "cell_type": "markdown",
   "id": "36087f32",
   "metadata": {},
   "source": [
    "## Estructuras de dato\n",
    "\n",
    "Formas en las que se organizan los tipos de datos. Veremos **vectores** y **tuplas**."
   ]
  },
  {
   "cell_type": "code",
   "execution_count": 19,
   "id": "a4daddfd",
   "metadata": {},
   "outputs": [
    {
     "data": {
      "text/plain": [
       "3-element Vector{Int64}:\n",
       " 1\n",
       " 2\n",
       " 3"
      ]
     },
     "execution_count": 19,
     "metadata": {},
     "output_type": "execute_result"
    }
   ],
   "source": [
    "v = [1,2,3]"
   ]
  },
  {
   "cell_type": "code",
   "execution_count": 20,
   "id": "e7826825",
   "metadata": {},
   "outputs": [
    {
     "data": {
      "text/plain": [
       "(1, 2, 3)"
      ]
     },
     "execution_count": 20,
     "metadata": {},
     "output_type": "execute_result"
    }
   ],
   "source": [
    "t = (1,2,3)"
   ]
  },
  {
   "cell_type": "code",
   "execution_count": null,
   "id": "d7b2fbf0",
   "metadata": {},
   "outputs": [],
   "source": []
  }
 ],
 "metadata": {
  "kernelspec": {
   "display_name": "Julia 1.8.5",
   "language": "julia",
   "name": "julia-1.8"
  },
  "language_info": {
   "file_extension": ".jl",
   "mimetype": "application/julia",
   "name": "julia",
   "version": "1.8.5"
  }
 },
 "nbformat": 4,
 "nbformat_minor": 5
}
